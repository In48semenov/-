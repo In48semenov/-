{
 "cells": [
  {
   "cell_type": "markdown",
   "metadata": {},
   "source": [
    "# Квантили "
   ]
  },
  {
   "cell_type": "code",
   "execution_count": 2,
   "metadata": {},
   "outputs": [
    {
     "name": "stdout",
     "output_type": "stream",
     "text": [
      "Время выполнения = 207.22115635871887\n"
     ]
    }
   ],
   "source": [
    "import pandas as pd\n",
    "import numpy as np\n",
    "import scipy.stats as st\n",
    "from scipy.stats import mstats as mst\n",
    "import math\n",
    "import matplotlib.pyplot as plt\n",
    "import time \n",
    "\n",
    "start = time.time()\n",
    "\n",
    "n = 252 #объём выборки\n",
    "m = 10000 #количество произведенных вычислений\n",
    "ex= [0] * m\n",
    "mod_set = [[]] * m #список нормальных распределений на каждом шаге\n",
    "for i in range(m):\n",
    "    mod_set[i] = np.random.normal(size=n)\n",
    "    ex[i] = st.kurtosis(mod_set[i], fisher=True, bias=True)\n",
    "\n",
    "kvant = [0] * 9 #для квантилей от 0,1 до 0,9\n",
    "for i in range(1,10):\n",
    "    kvant[i-1] = float(mst.mquantiles(ex, prob=[i/10], betap=0.5, alphap=0.5))\n",
    "    \n",
    "a = range(1, 1000, 1) #для квантилей от 0,001 до 0,999\n",
    "qs = [0] * len(a)\n",
    "for i in a:\n",
    "    qs[i-1] = float(mst.mquantiles(ex, prob=[i/1000], betap=0.5, alphap=0.5))\n",
    "    \n",
    "tab_qvant = pd.DataFrame() #создаем таблицу\n",
    "tab_qvant['Уровень'] = [i/10 for i in range(1,10)]\n",
    "tab_qvant['Квантиль'] = kvant\n",
    "tab_qvant.to_excel(u'C:/Users/Андрюша/Desktop/Акции_курсовая/Таблица_квантилей_из_выборки_объёма ' + str(n) + \".xlsx\", index=False, encoding='cp1251')\n",
    "\n",
    "print(\"Время выполнения = {}\".format(time.time() - start))"
   ]
  },
  {
   "cell_type": "code",
   "execution_count": 3,
   "metadata": {},
   "outputs": [
    {
     "data": {
      "image/png": "[encoded data removed]",
      "text/plain": [
       "<Figure size 432x288 with 1 Axes>"
      ]
     },
     "metadata": {
      "needs_background": "light"
     },
     "output_type": "display_data"
    }
   ],
   "source": [
    "pv=[] # список p-value для гистограммы\n",
    "for i in range(m):\n",
    "    pv.append(st.shapiro(np.random.normal(size=n))[1])\n",
    "kolint=(math.log2(len(pv)))//1+1\n",
    "plt.title('Гистограмма P-значений для модельных данных')\n",
    "plt.hist(pv, bins=int(kolint), color='b', alpha=0.65)\n",
    "plt.savefig(u\"C:/Users/Андрюша/Desktop/Акции_Курсовая/Гистограмма P-значений для модельных данных.png\")"
   ]
  },
  {
   "cell_type": "code",
   "execution_count": 4,
   "metadata": {},
   "outputs": [
    {
     "name": "stdout",
     "output_type": "stream",
     "text": [
      "Стандартная ошибка 0.003002394577956973\n"
     ]
    },
    {
     "data": {
      "text/html": [
       "<div>\n",
       "<style scoped>\n",
       "    .dataframe tbody tr th:only-of-type {\n",
       "        vertical-align: middle;\n",
       "    }\n",
       "\n",
       "    .dataframe tbody tr th {\n",
       "        vertical-align: top;\n",
       "    }\n",
       "\n",
       "    .dataframe thead th {\n",
       "        text-align: right;\n",
       "    }\n",
       "</style>\n",
       "<table border=\"1\" class=\"dataframe\">\n",
       "  <thead>\n",
       "    <tr style=\"text-align: right;\">\n",
       "      <th></th>\n",
       "      <th>Уровень</th>\n",
       "      <th>Квантиль</th>\n",
       "    </tr>\n",
       "  </thead>\n",
       "  <tbody>\n",
       "    <tr>\n",
       "      <th>0</th>\n",
       "      <td>0.1</td>\n",
       "      <td>-0.373288</td>\n",
       "    </tr>\n",
       "    <tr>\n",
       "      <th>1</th>\n",
       "      <td>0.2</td>\n",
       "      <td>-0.271008</td>\n",
       "    </tr>\n",
       "    <tr>\n",
       "      <th>2</th>\n",
       "      <td>0.3</td>\n",
       "      <td>-0.197392</td>\n",
       "    </tr>\n",
       "    <tr>\n",
       "      <th>3</th>\n",
       "      <td>0.4</td>\n",
       "      <td>-0.127062</td>\n",
       "    </tr>\n",
       "    <tr>\n",
       "      <th>4</th>\n",
       "      <td>0.5</td>\n",
       "      <td>-0.060720</td>\n",
       "    </tr>\n",
       "    <tr>\n",
       "      <th>5</th>\n",
       "      <td>0.6</td>\n",
       "      <td>0.008599</td>\n",
       "    </tr>\n",
       "    <tr>\n",
       "      <th>6</th>\n",
       "      <td>0.7</td>\n",
       "      <td>0.093484</td>\n",
       "    </tr>\n",
       "    <tr>\n",
       "      <th>7</th>\n",
       "      <td>0.8</td>\n",
       "      <td>0.202112</td>\n",
       "    </tr>\n",
       "    <tr>\n",
       "      <th>8</th>\n",
       "      <td>0.9</td>\n",
       "      <td>0.361465</td>\n",
       "    </tr>\n",
       "  </tbody>\n",
       "</table>\n",
       "</div>"
      ],
      "text/plain": [
       "   Уровень  Квантиль\n",
       "0      0.1 -0.373288\n",
       "1      0.2 -0.271008\n",
       "2      0.3 -0.197392\n",
       "3      0.4 -0.127062\n",
       "4      0.5 -0.060720\n",
       "5      0.6  0.008599\n",
       "6      0.7  0.093484\n",
       "7      0.8  0.202112\n",
       "8      0.9  0.361465"
      ]
     },
     "execution_count": 4,
     "metadata": {},
     "output_type": "execute_result"
    }
   ],
   "source": [
    "print(\"Стандартная ошибка {}\".format(st.sem(ex)))\n",
    "tab_qvant"
   ]
  },
  {
   "cell_type": "code",
   "execution_count": null,
   "metadata": {},
   "outputs": [],
   "source": []
  }
 ],
 "metadata": {
  "kernelspec": {
   "display_name": "Python 3",
   "language": "python",
   "name": "python3"
  },
  "language_info": {
   "codemirror_mode": {
    "name": "ipython",
    "version": 3
   },
   "file_extension": ".py",
   "mimetype": "text/x-python",
   "name": "python",
   "nbconvert_exporter": "python",
   "pygments_lexer": "ipython3",
   "version": "3.7.1"
  }
 },
 "nbformat": 4,
 "nbformat_minor": 2
}
